{
 "cells": [
  {
   "cell_type": "code",
   "execution_count": 191,
   "metadata": {},
   "outputs": [
    {
     "name": "stdout",
     "output_type": "stream",
     "text": [
      "[nltk_data] Downloading package punkt to /home/mscuser/nltk_data...\n",
      "[nltk_data]   Package punkt is already up-to-date!\n"
     ]
    }
   ],
   "source": [
    "from __future__ import division  \n",
    "import nltk\n",
    "from nltk import word_tokenize\n",
    "nltk.download('punkt')\n",
    "import re\n",
    "import pprint\n",
    "from bs4 import BeautifulSoup\n",
    "from urllib import urlopen \n",
    "import requests\n",
    "import string\n",
    "from nltk.corpus import stopwords\n",
    "from nltk.util import ngrams"
   ]
  },
  {
   "cell_type": "code",
   "execution_count": 192,
   "metadata": {
    "collapsed": true
   },
   "outputs": [],
   "source": [
    "page = requests.get(\"https://en.wikipedia.org/wiki/Artificial_neural_network\")\n",
    "# page.content"
   ]
  },
  {
   "cell_type": "code",
   "execution_count": 193,
   "metadata": {},
   "outputs": [],
   "source": [
    "page2 = page.text\n",
    "soup = BeautifulSoup(page2, 'html5lib')"
   ]
  },
  {
   "cell_type": "code",
   "execution_count": 194,
   "metadata": {
    "collapsed": true
   },
   "outputs": [],
   "source": [
    "def remove_punct(text):\n",
    "    text = re.sub(r\"(\\-)\",\" \", text)\n",
    "    words = word_tokenize(text)\n",
    "    return [w.rstrip( string.punctuation) for w in words ]"
   ]
  },
  {
   "cell_type": "code",
   "execution_count": 195,
   "metadata": {},
   "outputs": [],
   "source": [
    "[x.extract() for x in soup.find_all('script')]\n",
    "[x.extract() for x in soup.find_all('mstyle')]\n",
    "[x.extract() for x in soup.find_all('img')]\n",
    "[x.extract() for x in soup.find_all('span')]\n",
    "text = soup.get_text().lower()\n",
    "new_text = remove_punct(text)\n",
    "new_text = [i for i in new_text if i!=\"\"]\n",
    "# print new_text"
   ]
  },
  {
   "cell_type": "code",
   "execution_count": 196,
   "metadata": {},
   "outputs": [
    {
     "name": "stdout",
     "output_type": "stream",
     "text": [
      "11461\n"
     ]
    }
   ],
   "source": [
    "total_length = len(new_text)\n",
    "print total_length"
   ]
  },
  {
   "cell_type": "code",
   "execution_count": 197,
   "metadata": {},
   "outputs": [
    {
     "name": "stdout",
     "output_type": "stream",
     "text": [
      "2919\n"
     ]
    }
   ],
   "source": [
    "from collections import Counter\n",
    "Counter(new_text)\n",
    "\n",
    "unique = len(Counter(new_text))\n",
    "print unique"
   ]
  },
  {
   "cell_type": "code",
   "execution_count": 198,
   "metadata": {
    "collapsed": true
   },
   "outputs": [],
   "source": [
    "# for i in new_text:\n",
    "#     c = Counter(i)\n",
    "#     print i"
   ]
  },
  {
   "cell_type": "code",
   "execution_count": 199,
   "metadata": {},
   "outputs": [],
   "source": [
    "sentences = len(re.findall(\"(\\.)\", text))"
   ]
  },
  {
   "cell_type": "code",
   "execution_count": 200,
   "metadata": {},
   "outputs": [
    {
     "name": "stdout",
     "output_type": "stream",
     "text": [
      "0.254689817642\n"
     ]
    }
   ],
   "source": [
    "diversity = unique / total_length\n",
    "print diversity"
   ]
  },
  {
   "cell_type": "code",
   "execution_count": 209,
   "metadata": {},
   "outputs": [],
   "source": [
    "tags = nltk.pos_tag(new_text)"
   ]
  },
  {
   "cell_type": "code",
   "execution_count": 202,
   "metadata": {},
   "outputs": [],
   "source": [
    "# nltk.download()"
   ]
  },
  {
   "cell_type": "code",
   "execution_count": 203,
   "metadata": {},
   "outputs": [
    {
     "data": {
      "text/plain": [
       "[('NN', 2967), ('JJ', 1528), ('IN', 1216), ('DT', 1096), ('NNS', 945)]"
      ]
     },
     "execution_count": 203,
     "metadata": {},
     "output_type": "execute_result"
    }
   ],
   "source": [
    "lst = []\n",
    "for (i,j) in tags:\n",
    "    lst.append(j)\n",
    "nltk.FreqDist(lst).most_common(5)"
   ]
  },
  {
   "cell_type": "code",
   "execution_count": 204,
   "metadata": {},
   "outputs": [],
   "source": [
    "filtered_words = [word for word in new_text if word not in stopwords.words('english')]\n",
    "filtered_words2 = [word for word in filtered_words if len(word) > 2]\n"
   ]
  },
  {
   "cell_type": "code",
   "execution_count": 206,
   "metadata": {},
   "outputs": [
    {
     "data": {
      "text/plain": [
       "[((u'neural',), 151),\n",
       " ((u'learning',), 126),\n",
       " ((u'networks',), 103),\n",
       " ((u'network',), 93),\n",
       " ((u'function',), 60),\n",
       " ((u'machine',), 51),\n",
       " ((u'deep',), 48),\n",
       " ((u'model',), 47),\n",
       " ((u'input',), 46),\n",
       " ((u'computing',), 46)]"
      ]
     },
     "execution_count": 206,
     "metadata": {},
     "output_type": "execute_result"
    }
   ],
   "source": [
    "ngrams2 = ngrams(filtered_words2 , 1)\n",
    "Counter(ngrams2).most_common(10)"
   ]
  },
  {
   "cell_type": "code",
   "execution_count": 207,
   "metadata": {},
   "outputs": [
    {
     "data": {
      "text/plain": [
       "[((u'neural', u'networks'), 70),\n",
       " ((u'neural', u'network'), 49),\n",
       " ((u'bit', u'bit'), 26),\n",
       " ((u'artificial', u'neural'), 19),\n",
       " ((u'machine', u'learning'), 19),\n",
       " ((u'cost', u'function'), 15),\n",
       " ((u'deep', u'learning'), 15),\n",
       " ((u'pattern', u'recognition'), 11),\n",
       " ((u'activation', u'function'), 9),\n",
       " ((u'supervised', u'learning'), 9)]"
      ]
     },
     "execution_count": 207,
     "metadata": {},
     "output_type": "execute_result"
    }
   ],
   "source": [
    "ngrams2 = ngrams(filtered_words2 , 2)\n",
    "Counter(ngrams2).most_common(10)"
   ]
  },
  {
   "cell_type": "code",
   "execution_count": 212,
   "metadata": {},
   "outputs": [
    {
     "data": {
      "text/plain": [
       "3923"
      ]
     },
     "execution_count": 212,
     "metadata": {},
     "output_type": "execute_result"
    }
   ],
   "source": [
    "lst2 = [\"NN\", \"NNS\", \"NNP\", \"NNPS\"]\n",
    "lst3 = []\n",
    "for (i,j) in tags:\n",
    "    if j in lst2:\n",
    "        lst3.append(i)\n",
    "len(lst3)"
   ]
  },
  {
   "cell_type": "code",
   "execution_count": null,
   "metadata": {
    "collapsed": true
   },
   "outputs": [],
   "source": []
  }
 ],
 "metadata": {
  "kernelspec": {
   "display_name": "Python 2",
   "language": "python",
   "name": "python2"
  },
  "language_info": {
   "codemirror_mode": {
    "name": "ipython",
    "version": 2
   },
   "file_extension": ".py",
   "mimetype": "text/x-python",
   "name": "python",
   "nbconvert_exporter": "python",
   "pygments_lexer": "ipython2",
   "version": "2.7.13"
  }
 },
 "nbformat": 4,
 "nbformat_minor": 2
}
